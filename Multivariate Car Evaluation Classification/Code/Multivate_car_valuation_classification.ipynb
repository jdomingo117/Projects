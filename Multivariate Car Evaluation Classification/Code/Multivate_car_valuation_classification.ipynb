{
 "cells": [
  {
   "cell_type": "code",
   "execution_count": 1,
   "metadata": {},
   "outputs": [],
   "source": [
    "import pandas as pd\n",
    "import numpy as np\n",
    "import matplotlib.pyplot as plt\n",
    "import seaborn as sns"
   ]
  },
  {
   "cell_type": "code",
   "execution_count": 2,
   "metadata": {},
   "outputs": [
    {
     "data": {
      "text/html": [
       "<div>\n",
       "<style scoped>\n",
       "    .dataframe tbody tr th:only-of-type {\n",
       "        vertical-align: middle;\n",
       "    }\n",
       "\n",
       "    .dataframe tbody tr th {\n",
       "        vertical-align: top;\n",
       "    }\n",
       "\n",
       "    .dataframe thead th {\n",
       "        text-align: right;\n",
       "    }\n",
       "</style>\n",
       "<table border=\"1\" class=\"dataframe\">\n",
       "  <thead>\n",
       "    <tr style=\"text-align: right;\">\n",
       "      <th></th>\n",
       "      <th>relative_cost</th>\n",
       "      <th>maint_cost</th>\n",
       "      <th>doors</th>\n",
       "      <th>persons</th>\n",
       "      <th>lug_boot</th>\n",
       "      <th>safety</th>\n",
       "      <th>rating</th>\n",
       "    </tr>\n",
       "  </thead>\n",
       "  <tbody>\n",
       "    <tr>\n",
       "      <th>0</th>\n",
       "      <td>vhigh</td>\n",
       "      <td>vhigh</td>\n",
       "      <td>2</td>\n",
       "      <td>2</td>\n",
       "      <td>small</td>\n",
       "      <td>low</td>\n",
       "      <td>unacc</td>\n",
       "    </tr>\n",
       "    <tr>\n",
       "      <th>1</th>\n",
       "      <td>vhigh</td>\n",
       "      <td>vhigh</td>\n",
       "      <td>2</td>\n",
       "      <td>2</td>\n",
       "      <td>small</td>\n",
       "      <td>med</td>\n",
       "      <td>unacc</td>\n",
       "    </tr>\n",
       "    <tr>\n",
       "      <th>2</th>\n",
       "      <td>vhigh</td>\n",
       "      <td>vhigh</td>\n",
       "      <td>2</td>\n",
       "      <td>2</td>\n",
       "      <td>small</td>\n",
       "      <td>high</td>\n",
       "      <td>unacc</td>\n",
       "    </tr>\n",
       "    <tr>\n",
       "      <th>3</th>\n",
       "      <td>vhigh</td>\n",
       "      <td>vhigh</td>\n",
       "      <td>2</td>\n",
       "      <td>2</td>\n",
       "      <td>med</td>\n",
       "      <td>low</td>\n",
       "      <td>unacc</td>\n",
       "    </tr>\n",
       "    <tr>\n",
       "      <th>4</th>\n",
       "      <td>vhigh</td>\n",
       "      <td>vhigh</td>\n",
       "      <td>2</td>\n",
       "      <td>2</td>\n",
       "      <td>med</td>\n",
       "      <td>med</td>\n",
       "      <td>unacc</td>\n",
       "    </tr>\n",
       "    <tr>\n",
       "      <th>5</th>\n",
       "      <td>vhigh</td>\n",
       "      <td>vhigh</td>\n",
       "      <td>2</td>\n",
       "      <td>2</td>\n",
       "      <td>med</td>\n",
       "      <td>high</td>\n",
       "      <td>unacc</td>\n",
       "    </tr>\n",
       "    <tr>\n",
       "      <th>6</th>\n",
       "      <td>vhigh</td>\n",
       "      <td>vhigh</td>\n",
       "      <td>2</td>\n",
       "      <td>2</td>\n",
       "      <td>big</td>\n",
       "      <td>low</td>\n",
       "      <td>unacc</td>\n",
       "    </tr>\n",
       "    <tr>\n",
       "      <th>7</th>\n",
       "      <td>vhigh</td>\n",
       "      <td>vhigh</td>\n",
       "      <td>2</td>\n",
       "      <td>2</td>\n",
       "      <td>big</td>\n",
       "      <td>med</td>\n",
       "      <td>unacc</td>\n",
       "    </tr>\n",
       "    <tr>\n",
       "      <th>8</th>\n",
       "      <td>vhigh</td>\n",
       "      <td>vhigh</td>\n",
       "      <td>2</td>\n",
       "      <td>2</td>\n",
       "      <td>big</td>\n",
       "      <td>high</td>\n",
       "      <td>unacc</td>\n",
       "    </tr>\n",
       "    <tr>\n",
       "      <th>9</th>\n",
       "      <td>vhigh</td>\n",
       "      <td>vhigh</td>\n",
       "      <td>2</td>\n",
       "      <td>4</td>\n",
       "      <td>small</td>\n",
       "      <td>low</td>\n",
       "      <td>unacc</td>\n",
       "    </tr>\n",
       "    <tr>\n",
       "      <th>10</th>\n",
       "      <td>vhigh</td>\n",
       "      <td>vhigh</td>\n",
       "      <td>2</td>\n",
       "      <td>4</td>\n",
       "      <td>small</td>\n",
       "      <td>med</td>\n",
       "      <td>unacc</td>\n",
       "    </tr>\n",
       "    <tr>\n",
       "      <th>11</th>\n",
       "      <td>vhigh</td>\n",
       "      <td>vhigh</td>\n",
       "      <td>2</td>\n",
       "      <td>4</td>\n",
       "      <td>small</td>\n",
       "      <td>high</td>\n",
       "      <td>unacc</td>\n",
       "    </tr>\n",
       "    <tr>\n",
       "      <th>12</th>\n",
       "      <td>vhigh</td>\n",
       "      <td>vhigh</td>\n",
       "      <td>2</td>\n",
       "      <td>4</td>\n",
       "      <td>med</td>\n",
       "      <td>low</td>\n",
       "      <td>unacc</td>\n",
       "    </tr>\n",
       "    <tr>\n",
       "      <th>13</th>\n",
       "      <td>vhigh</td>\n",
       "      <td>vhigh</td>\n",
       "      <td>2</td>\n",
       "      <td>4</td>\n",
       "      <td>med</td>\n",
       "      <td>med</td>\n",
       "      <td>unacc</td>\n",
       "    </tr>\n",
       "    <tr>\n",
       "      <th>14</th>\n",
       "      <td>vhigh</td>\n",
       "      <td>vhigh</td>\n",
       "      <td>2</td>\n",
       "      <td>4</td>\n",
       "      <td>med</td>\n",
       "      <td>high</td>\n",
       "      <td>unacc</td>\n",
       "    </tr>\n",
       "    <tr>\n",
       "      <th>15</th>\n",
       "      <td>vhigh</td>\n",
       "      <td>vhigh</td>\n",
       "      <td>2</td>\n",
       "      <td>4</td>\n",
       "      <td>big</td>\n",
       "      <td>low</td>\n",
       "      <td>unacc</td>\n",
       "    </tr>\n",
       "    <tr>\n",
       "      <th>16</th>\n",
       "      <td>vhigh</td>\n",
       "      <td>vhigh</td>\n",
       "      <td>2</td>\n",
       "      <td>4</td>\n",
       "      <td>big</td>\n",
       "      <td>med</td>\n",
       "      <td>unacc</td>\n",
       "    </tr>\n",
       "    <tr>\n",
       "      <th>17</th>\n",
       "      <td>vhigh</td>\n",
       "      <td>vhigh</td>\n",
       "      <td>2</td>\n",
       "      <td>4</td>\n",
       "      <td>big</td>\n",
       "      <td>high</td>\n",
       "      <td>unacc</td>\n",
       "    </tr>\n",
       "    <tr>\n",
       "      <th>18</th>\n",
       "      <td>vhigh</td>\n",
       "      <td>vhigh</td>\n",
       "      <td>2</td>\n",
       "      <td>more</td>\n",
       "      <td>small</td>\n",
       "      <td>low</td>\n",
       "      <td>unacc</td>\n",
       "    </tr>\n",
       "    <tr>\n",
       "      <th>19</th>\n",
       "      <td>vhigh</td>\n",
       "      <td>vhigh</td>\n",
       "      <td>2</td>\n",
       "      <td>more</td>\n",
       "      <td>small</td>\n",
       "      <td>med</td>\n",
       "      <td>unacc</td>\n",
       "    </tr>\n",
       "  </tbody>\n",
       "</table>\n",
       "</div>"
      ],
      "text/plain": [
       "   relative_cost maint_cost doors persons lug_boot safety rating\n",
       "0          vhigh      vhigh     2       2    small    low  unacc\n",
       "1          vhigh      vhigh     2       2    small    med  unacc\n",
       "2          vhigh      vhigh     2       2    small   high  unacc\n",
       "3          vhigh      vhigh     2       2      med    low  unacc\n",
       "4          vhigh      vhigh     2       2      med    med  unacc\n",
       "5          vhigh      vhigh     2       2      med   high  unacc\n",
       "6          vhigh      vhigh     2       2      big    low  unacc\n",
       "7          vhigh      vhigh     2       2      big    med  unacc\n",
       "8          vhigh      vhigh     2       2      big   high  unacc\n",
       "9          vhigh      vhigh     2       4    small    low  unacc\n",
       "10         vhigh      vhigh     2       4    small    med  unacc\n",
       "11         vhigh      vhigh     2       4    small   high  unacc\n",
       "12         vhigh      vhigh     2       4      med    low  unacc\n",
       "13         vhigh      vhigh     2       4      med    med  unacc\n",
       "14         vhigh      vhigh     2       4      med   high  unacc\n",
       "15         vhigh      vhigh     2       4      big    low  unacc\n",
       "16         vhigh      vhigh     2       4      big    med  unacc\n",
       "17         vhigh      vhigh     2       4      big   high  unacc\n",
       "18         vhigh      vhigh     2    more    small    low  unacc\n",
       "19         vhigh      vhigh     2    more    small    med  unacc"
      ]
     },
     "execution_count": 2,
     "metadata": {},
     "output_type": "execute_result"
    }
   ],
   "source": [
    "file = 'car.data'\n",
    "columns = ['relative_cost', 'maint_cost', 'doors', 'persons', 'lug_boot', 'safety', 'rating']\n",
    "data = pd.read_csv(file, names = columns)\n",
    "data.head(20)"
   ]
  },
  {
   "cell_type": "markdown",
   "metadata": {},
   "source": [
    "# Evaluating Class Models"
   ]
  },
  {
   "cell_type": "code",
   "execution_count": 3,
   "metadata": {},
   "outputs": [
    {
     "data": {
      "text/html": [
       "<div>\n",
       "<style scoped>\n",
       "    .dataframe tbody tr th:only-of-type {\n",
       "        vertical-align: middle;\n",
       "    }\n",
       "\n",
       "    .dataframe tbody tr th {\n",
       "        vertical-align: top;\n",
       "    }\n",
       "\n",
       "    .dataframe thead th {\n",
       "        text-align: right;\n",
       "    }\n",
       "</style>\n",
       "<table border=\"1\" class=\"dataframe\">\n",
       "  <thead>\n",
       "    <tr style=\"text-align: right;\">\n",
       "      <th></th>\n",
       "      <th>relative_cost</th>\n",
       "      <th>maint_cost</th>\n",
       "      <th>doors</th>\n",
       "      <th>persons</th>\n",
       "      <th>lug_boot</th>\n",
       "      <th>safety</th>\n",
       "      <th>rating</th>\n",
       "    </tr>\n",
       "  </thead>\n",
       "  <tbody>\n",
       "    <tr>\n",
       "      <th>0</th>\n",
       "      <td>1.0</td>\n",
       "      <td>1.0</td>\n",
       "      <td>0.0</td>\n",
       "      <td>0.0</td>\n",
       "      <td>0.0</td>\n",
       "      <td>0.0</td>\n",
       "      <td>1</td>\n",
       "    </tr>\n",
       "    <tr>\n",
       "      <th>1</th>\n",
       "      <td>1.0</td>\n",
       "      <td>1.0</td>\n",
       "      <td>0.0</td>\n",
       "      <td>0.0</td>\n",
       "      <td>0.0</td>\n",
       "      <td>0.5</td>\n",
       "      <td>1</td>\n",
       "    </tr>\n",
       "    <tr>\n",
       "      <th>2</th>\n",
       "      <td>1.0</td>\n",
       "      <td>1.0</td>\n",
       "      <td>0.0</td>\n",
       "      <td>0.0</td>\n",
       "      <td>0.0</td>\n",
       "      <td>1.0</td>\n",
       "      <td>1</td>\n",
       "    </tr>\n",
       "    <tr>\n",
       "      <th>3</th>\n",
       "      <td>1.0</td>\n",
       "      <td>1.0</td>\n",
       "      <td>0.0</td>\n",
       "      <td>0.0</td>\n",
       "      <td>0.5</td>\n",
       "      <td>0.0</td>\n",
       "      <td>1</td>\n",
       "    </tr>\n",
       "    <tr>\n",
       "      <th>4</th>\n",
       "      <td>1.0</td>\n",
       "      <td>1.0</td>\n",
       "      <td>0.0</td>\n",
       "      <td>0.0</td>\n",
       "      <td>0.5</td>\n",
       "      <td>0.5</td>\n",
       "      <td>1</td>\n",
       "    </tr>\n",
       "  </tbody>\n",
       "</table>\n",
       "</div>"
      ],
      "text/plain": [
       "   relative_cost  maint_cost  doors  persons  lug_boot  safety  rating\n",
       "0            1.0         1.0    0.0      0.0       0.0     0.0       1\n",
       "1            1.0         1.0    0.0      0.0       0.0     0.5       1\n",
       "2            1.0         1.0    0.0      0.0       0.0     1.0       1\n",
       "3            1.0         1.0    0.0      0.0       0.5     0.0       1\n",
       "4            1.0         1.0    0.0      0.0       0.5     0.5       1"
      ]
     },
     "execution_count": 3,
     "metadata": {},
     "output_type": "execute_result"
    }
   ],
   "source": [
    "# EDA\n",
    "\n",
    "# Make numeric version of data to be able to make correlations\n",
    "num_data = pd.read_csv(file, names = columns)\n",
    "num_data['relative_cost'].replace({'low':0,'med':1/3,'high':2/3, 'vhigh':1}, inplace = True)\n",
    "num_data['maint_cost'].replace({'low':0,'med':1/3,'high':2/3, 'vhigh':1},inplace = True)\n",
    "num_data['doors'].replace({'2':0,'3':1/3,'4':2/3,'5more':1},inplace = True)\n",
    "num_data['persons'].replace({'2':0,'4':0.5,'more':1},inplace = True)\n",
    "num_data['lug_boot'].replace({'small':0,'med':0.5,'big':1},inplace = True)\n",
    "num_data['safety'].replace({'low':0,'med':0.5,'high':1},inplace = True)\n",
    "num_data['rating'].replace({'unacc': 1, 'acc': 2, 'good': 3, 'vgood': 4}, inplace = True)\n",
    "\n",
    "num_data.head()"
   ]
  },
  {
   "cell_type": "code",
   "execution_count": 4,
   "metadata": {},
   "outputs": [
    {
     "data": {
      "text/plain": [
       "<matplotlib.axes._subplots.AxesSubplot at 0x27a5f06a100>"
      ]
     },
     "execution_count": 4,
     "metadata": {},
     "output_type": "execute_result"
    },
    {
     "data": {
      "image/png": "[encoded data removed]",
      "text/plain": [
       "<Figure size 576x432 with 2 Axes>"
      ]
     },
     "metadata": {
      "needs_background": "light"
     },
     "output_type": "display_data"
    }
   ],
   "source": [
    "# Visualize correlation\n",
    "corr = num_data.corr()\n",
    "datacorr = corr.corr()\n",
    "mask = np.triu(np.ones_like(corr, dtype=bool))\n",
    "f,ax = plt.subplots(figsize=(8,6))\n",
    "cmap = sns.diverging_palette(230, 20, as_cmap = True)\n",
    "sns.heatmap(corr, mask = mask, cmap = cmap, vmax = .3, center = 0, square = True, linewidths = 0.5, cbar_kws = {\"shrink\": 0.5})"
   ]
  },
  {
   "cell_type": "markdown",
   "metadata": {},
   "source": [
    "This makes sense:\n",
    "- Rating is inversely correlated with relative-cost (higher cost means lower rating).\n",
    "- Same with maintenence costs.\n",
    "- More doors is slightly correlated with rating, but not as important.\n",
    "- More persons means a higher rating, which makes sense because you get more value out of the car.\n",
    "- Bigger boot space means more value in the car.\n",
    "- Safety is always important, so higher safety ratings indicate better ratings."
   ]
  },
  {
   "cell_type": "code",
   "execution_count": 4,
   "metadata": {},
   "outputs": [
    {
     "data": {
      "text/plain": [
       "unacc    0.700231\n",
       "acc      0.222222\n",
       "good     0.039931\n",
       "vgood    0.037616\n",
       "Name: rating, dtype: float64"
      ]
     },
     "execution_count": 4,
     "metadata": {},
     "output_type": "execute_result"
    }
   ],
   "source": [
    "# Baseline accuracy\n",
    "data['rating'].value_counts(normalize = True)"
   ]
  },
  {
   "cell_type": "code",
   "execution_count": 5,
   "metadata": {},
   "outputs": [],
   "source": [
    "scores = {'Logistic': {}, 'SVM': {}, 'NB': {}, 'KNN': {}}"
   ]
  },
  {
   "cell_type": "markdown",
   "metadata": {},
   "source": [
    "# Logistic Regression"
   ]
  },
  {
   "cell_type": "code",
   "execution_count": 6,
   "metadata": {},
   "outputs": [],
   "source": [
    "# Set targets and features\n",
    "X = data.iloc[:, :-1]\n",
    "y = data.iloc[:, -1]"
   ]
  },
  {
   "cell_type": "code",
   "execution_count": 7,
   "metadata": {},
   "outputs": [
    {
     "name": "stderr",
     "output_type": "stream",
     "text": [
      "C:\\Users\\Joel\\anaconda3\\lib\\site-packages\\pandas\\core\\frame.py:4166: SettingWithCopyWarning: \n",
      "A value is trying to be set on a copy of a slice from a DataFrame\n",
      "\n",
      "See the caveats in the documentation: https://pandas.pydata.org/pandas-docs/stable/user_guide/indexing.html#returning-a-view-versus-a-copy\n",
      "  return super().replace(\n"
     ]
    }
   ],
   "source": [
    "# Change features to numeric\n",
    "X.iloc[:,0:2].replace({'low':0,'med':1/3,'high':2/3, 'vhigh':1}, inplace = True)\n",
    "X.iloc[:,2].replace({'2':0,'3':1/3,'4':2/3,'5more':1},inplace = True)\n",
    "X.iloc[:,3].replace({'2':0,'4':0.5,'more':1},inplace = True)\n",
    "X.iloc[:,4].replace({'small':0,'med':0.5,'big':1},inplace = True)\n",
    "X.iloc[:,5].replace({'low':0,'med':0.5,'high':1},inplace = True)"
   ]
  },
  {
   "cell_type": "code",
   "execution_count": 8,
   "metadata": {},
   "outputs": [],
   "source": [
    "# Partition the data into training and testing subsets\n",
    "from sklearn.model_selection import train_test_split\n",
    "from sklearn.model_selection import StratifiedKFold, GridSearchCV, cross_val_score\n",
    "from sklearn import preprocessing\n",
    "\n",
    "\n",
    "X_train, X_test, y_train, y_test = train_test_split(X, y, test_size=0.2,random_state=17)"
   ]
  },
  {
   "cell_type": "code",
   "execution_count": 9,
   "metadata": {},
   "outputs": [
    {
     "data": {
      "text/plain": [
       "LogisticRegression(multi_class='multinomial')"
      ]
     },
     "execution_count": 9,
     "metadata": {},
     "output_type": "execute_result"
    }
   ],
   "source": [
    "# Build model\n",
    "from sklearn.linear_model import LogisticRegression\n",
    "\n",
    "lr = LogisticRegression(multi_class = 'multinomial', solver = 'lbfgs', penalty = 'l2')\n",
    "\n",
    "# fit model\n",
    "lr.fit(X_train, y_train)"
   ]
  },
  {
   "cell_type": "code",
   "execution_count": 10,
   "metadata": {},
   "outputs": [
    {
     "name": "stdout",
     "output_type": "stream",
     "text": [
      "Model Score:  0.838150289017341\n"
     ]
    }
   ],
   "source": [
    "# Check accuracy of model\n",
    "from sklearn.metrics import roc_auc_score\n",
    "\n",
    "\n",
    "roc_score = roc_auc_score(y_test, lr.predict_proba(X_test), multi_class = 'ovr')\n",
    "\n",
    "print('Model Score: ', lr.score(X_test, y_test))"
   ]
  },
  {
   "cell_type": "code",
   "execution_count": 11,
   "metadata": {},
   "outputs": [
    {
     "name": "stdout",
     "output_type": "stream",
     "text": [
      "              precision    recall  f1-score   support\n",
      "\n",
      "         acc       0.69      0.61      0.64        76\n",
      "        good       0.75      0.33      0.46        18\n",
      "       unacc       0.88      0.96      0.92       243\n",
      "       vgood       1.00      0.44      0.62         9\n",
      "\n",
      "    accuracy                           0.84       346\n",
      "   macro avg       0.83      0.59      0.66       346\n",
      "weighted avg       0.83      0.84      0.83       346\n",
      "\n"
     ]
    }
   ],
   "source": [
    "from sklearn.metrics import classification_report\n",
    "y_pred = lr.predict(X_test)\n",
    "y_true = y_test\n",
    "target_names = ['acc', 'good', 'unacc', 'vgood']\n",
    "print(classification_report(y_true, y_pred, target_names=target_names))"
   ]
  },
  {
   "cell_type": "code",
   "execution_count": 12,
   "metadata": {},
   "outputs": [
    {
     "name": "stdout",
     "output_type": "stream",
     "text": [
      "Logistic :  {'Accuracy': 'Model Score: 0.838', 'f_score': '0.83'}\n",
      "SVM :  {}\n",
      "NB :  {}\n",
      "KNN :  {}\n"
     ]
    }
   ],
   "source": [
    "scores['Logistic']['Accuracy'] = 'Model Score: 0.838'\n",
    "scores['Logistic']['f_score'] = '0.83'\n",
    "\n",
    "for i, x in scores.items():\n",
    "    print(i, ': ', x)"
   ]
  },
  {
   "cell_type": "code",
   "execution_count": 13,
   "metadata": {},
   "outputs": [
    {
     "name": "stdout",
     "output_type": "stream",
     "text": [
      "Number of mislabeled points out of a total 346 points: 56\n"
     ]
    }
   ],
   "source": [
    "y_pred = lr.fit(X_train, y_train).predict(X_test)\n",
    "print(\"Number of mislabeled points out of a total %d points: %d\"\n",
    "     % (X_test.shape[0], (y_test != y_pred).sum()))"
   ]
  },
  {
   "cell_type": "markdown",
   "metadata": {},
   "source": [
    "# SVM"
   ]
  },
  {
   "cell_type": "code",
   "execution_count": 14,
   "metadata": {},
   "outputs": [
    {
     "name": "stdout",
     "output_type": "stream",
     "text": [
      "Model Score:  0.9682080924855492\n"
     ]
    }
   ],
   "source": [
    "# SVM\n",
    "from sklearn import svm\n",
    "from sklearn.svm import SVC\n",
    "\n",
    "svmodel = svm.SVC(C = 1, gamma = 1, probability = True)\n",
    "svmodel.fit(X_train, y_train)\n",
    "\n",
    "# Score model\n",
    "svscore = svmodel.score(X_test, y_test)\n",
    "print('Model Score: ', svscore)\n"
   ]
  },
  {
   "cell_type": "code",
   "execution_count": 15,
   "metadata": {},
   "outputs": [
    {
     "name": "stdout",
     "output_type": "stream",
     "text": [
      "              precision    recall  f1-score   support\n",
      "\n",
      "         acc       0.94      0.96      0.95        76\n",
      "        good       0.92      0.67      0.77        18\n",
      "       unacc       0.99      0.99      0.99       243\n",
      "       vgood       0.75      1.00      0.86         9\n",
      "\n",
      "    accuracy                           0.97       346\n",
      "   macro avg       0.90      0.90      0.89       346\n",
      "weighted avg       0.97      0.97      0.97       346\n",
      "\n"
     ]
    }
   ],
   "source": [
    "# classification report\n",
    "y_pred = svmodel.predict(X_test)\n",
    "print(classification_report(y_true, y_pred, target_names=target_names))"
   ]
  },
  {
   "cell_type": "code",
   "execution_count": 16,
   "metadata": {},
   "outputs": [
    {
     "name": "stdout",
     "output_type": "stream",
     "text": [
      "Logistic :  {'Accuracy': 'Model Score: 0.838', 'f_score': '0.83'}\n",
      "SVM :  {'Accuracy': 'Model Score: 0.968', 'f_score': '0.97'}\n",
      "NB :  {}\n",
      "KNN :  {}\n"
     ]
    }
   ],
   "source": [
    "scores['SVM']['Accuracy'] = 'Model Score: 0.968' \n",
    "scores['SVM']['f_score'] = '0.97'\n",
    "for i, x in scores.items():\n",
    "    print(i, ': ', x)"
   ]
  },
  {
   "cell_type": "code",
   "execution_count": 17,
   "metadata": {},
   "outputs": [
    {
     "name": "stdout",
     "output_type": "stream",
     "text": [
      "Number of mislabeled points out of a total 346 points: 11\n"
     ]
    }
   ],
   "source": [
    "y_pred = svmodel.fit(X_train, y_train).predict(X_test)\n",
    "print(\"Number of mislabeled points out of a total %d points: %d\"\n",
    "     % (X_test.shape[0], (y_test != y_pred).sum()))"
   ]
  },
  {
   "cell_type": "markdown",
   "metadata": {},
   "source": [
    "# Naive Bayes"
   ]
  },
  {
   "cell_type": "code",
   "execution_count": 18,
   "metadata": {},
   "outputs": [
    {
     "name": "stdout",
     "output_type": "stream",
     "text": [
      "Model Score:  0.6936416184971098\n"
     ]
    }
   ],
   "source": [
    "from sklearn.naive_bayes import GaussianNB\n",
    "\n",
    "gnb = GaussianNB()\n",
    "gnb.fit(X_train, y_train)\n",
    "\n",
    "# Score model\n",
    "gnbscore = gnb.score(X_test, y_test)\n",
    "gnb_roc = roc_auc_score(y_test, gnb.predict_proba(X_test), multi_class = 'ovr')\n",
    "print('Model Score: ', gnbscore)"
   ]
  },
  {
   "cell_type": "code",
   "execution_count": 19,
   "metadata": {},
   "outputs": [
    {
     "name": "stdout",
     "output_type": "stream",
     "text": [
      "Number of mislabeled points out of a total 346 points: 106\n"
     ]
    }
   ],
   "source": [
    "y_pred = gnb.fit(X_train, y_train).predict(X_test)\n",
    "print(\"Number of mislabeled points out of a total %d points: %d\"\n",
    "     % (X_test.shape[0], (y_test != y_pred).sum()))"
   ]
  },
  {
   "cell_type": "code",
   "execution_count": 20,
   "metadata": {},
   "outputs": [
    {
     "name": "stdout",
     "output_type": "stream",
     "text": [
      "              precision    recall  f1-score   support\n",
      "\n",
      "         acc       0.59      0.13      0.22        76\n",
      "        good       0.50      0.11      0.18        18\n",
      "       unacc       0.84      0.90      0.87       243\n",
      "       vgood       0.14      1.00      0.24         9\n",
      "\n",
      "    accuracy                           0.69       346\n",
      "   macro avg       0.52      0.54      0.38       346\n",
      "weighted avg       0.75      0.69      0.67       346\n",
      "\n"
     ]
    }
   ],
   "source": [
    "y_pred = gnb.predict(X_test)\n",
    "print(classification_report(y_true, y_pred, target_names=target_names))"
   ]
  },
  {
   "cell_type": "code",
   "execution_count": 32,
   "metadata": {},
   "outputs": [
    {
     "name": "stdout",
     "output_type": "stream",
     "text": [
      "Logistic :  {'Accuracy': 'Model Score: 0.838', 'f_score': '0.83'}\n",
      "SVM :  {'Accuracy': 'Model Score: 0.968', 'f_score': '0.97'}\n",
      "NB :  {'Accuracy': 'Model Score: 0.69', 'f_score': '0.67'}\n",
      "KNN :  {}\n"
     ]
    }
   ],
   "source": [
    "scores['NB']['Accuracy'] = 'Model Score: 0.69'\n",
    "scores['NB']['f_score'] = '0.67'\n",
    "for i, x in scores.items():\n",
    "    print(i, ': ', x)"
   ]
  },
  {
   "cell_type": "markdown",
   "metadata": {},
   "source": [
    "# K Nearest Neighbors"
   ]
  },
  {
   "cell_type": "code",
   "execution_count": 22,
   "metadata": {},
   "outputs": [
    {
     "name": "stdout",
     "output_type": "stream",
     "text": [
      "[0.9017341040462428, 0.9046242774566474, 0.9566473988439307, 0.930635838150289, 0.9450867052023122, 0.9335260115606936, 0.9393063583815029, 0.9277456647398844, 0.930635838150289, 0.9277456647398844, 0.9277456647398844, 0.9335260115606936, 0.930635838150289, 0.9421965317919075, 0.9364161849710982, 0.9335260115606936, 0.9277456647398844, 0.9190751445086706, 0.9248554913294798, 0.9335260115606936, 0.9190751445086706, 0.9190751445086706, 0.9335260115606936, 0.9277456647398844, 0.9219653179190751, 0.9161849710982659, 0.9190751445086706, 0.9190751445086706, 0.9104046242774566, 0.9104046242774566, 0.9017341040462428, 0.9017341040462428, 0.9017341040462428, 0.9104046242774566, 0.9046242774566474, 0.9104046242774566, 0.9017341040462428, 0.9046242774566474, 0.8901734104046243, 0.8930635838150289, 0.8988439306358381, 0.8959537572254336, 0.8872832369942196, 0.8930635838150289, 0.8872832369942196, 0.8930635838150289, 0.8959537572254336, 0.8901734104046243, 0.8901734104046243, 0.8988439306358381, 0.8872832369942196, 0.8930635838150289, 0.8901734104046243, 0.8872832369942196, 0.8872832369942196, 0.8901734104046243, 0.8901734104046243, 0.8815028901734104, 0.884393063583815, 0.884393063583815, 0.8815028901734104, 0.869942196531792, 0.869942196531792, 0.8757225433526011, 0.8728323699421965, 0.869942196531792, 0.8728323699421965, 0.869942196531792, 0.8728323699421965, 0.8641618497109826, 0.869942196531792, 0.8757225433526011, 0.8728323699421965, 0.8757225433526011, 0.869942196531792, 0.869942196531792, 0.8670520231213873, 0.8641618497109826, 0.8670520231213873, 0.869942196531792, 0.869942196531792, 0.869942196531792, 0.8641618497109826, 0.869942196531792, 0.869942196531792, 0.8670520231213873, 0.8670520231213873, 0.869942196531792, 0.8641618497109826, 0.8641618497109826, 0.8554913294797688, 0.8641618497109826, 0.8583815028901735, 0.8583815028901735, 0.861271676300578, 0.861271676300578, 0.8554913294797688, 0.8554913294797688, 0.8526011560693642]\n",
      "Wall time: 1.65 s\n"
     ]
    }
   ],
   "source": [
    "%%time\n",
    "from sklearn.neighbors import KNeighborsClassifier\n",
    "\n",
    "# Find optimal number of neighbors\n",
    "test_accuracy = []\n",
    "num_neighbors = []\n",
    "for i in range(1,100):\n",
    "    num_neighbors.append(i)\n",
    "    \n",
    "for i in range(1, 100):\n",
    "    clf = KNeighborsClassifier(n_neighbors = i)\n",
    "    clf.fit(X_train, y_train)\n",
    "    test_accuracy.append(clf.score(X_test, y_test))\n",
    "    \n",
    "print(test_accuracy)"
   ]
  },
  {
   "cell_type": "code",
   "execution_count": 23,
   "metadata": {},
   "outputs": [
    {
     "data": {
      "image/png": "[encoded data removed]",
      "text/plain": [
       "<Figure size 720x432 with 1 Axes>"
      ]
     },
     "metadata": {
      "needs_background": "light"
     },
     "output_type": "display_data"
    }
   ],
   "source": [
    "plt.figure(figsize = (10,6))\n",
    "plt.plot(num_neighbors, test_accuracy)\n",
    "plt.title('Number of neighbors vs Test Accuracy', fontsize = 20)\n",
    "plt.xlabel('Number of Neighbors')\n",
    "plt.ylabel('KNN model Accuracy')\n",
    "plt.show()"
   ]
  },
  {
   "cell_type": "markdown",
   "metadata": {},
   "source": [
    "We can see that number of K optimizes at around 5-7"
   ]
  },
  {
   "cell_type": "code",
   "execution_count": 27,
   "metadata": {},
   "outputs": [
    {
     "name": "stdout",
     "output_type": "stream",
     "text": [
      "Model Score:  0.9450867052023122\n"
     ]
    }
   ],
   "source": [
    "clf = KNeighborsClassifier()\n",
    "clf.fit(X_train, y_train)\n",
    "\n",
    "# Score model\n",
    "Knnscore = clf.score(X_test, y_test)\n",
    "gnb_roc = roc_auc_score(y_test, clf.predict_proba(X_test), multi_class = 'ovr')\n",
    "print('Model Score: ', Knnscore)"
   ]
  },
  {
   "cell_type": "code",
   "execution_count": 28,
   "metadata": {},
   "outputs": [
    {
     "name": "stdout",
     "output_type": "stream",
     "text": [
      "Number of mislabeled points out of a total 346 points: 19\n"
     ]
    }
   ],
   "source": [
    "y_pred = clf.fit(X_train, y_train).predict(X_test)\n",
    "print(\"Number of mislabeled points out of a total %d points: %d\"\n",
    "     % (X_test.shape[0], (y_test != y_pred).sum()))"
   ]
  },
  {
   "cell_type": "code",
   "execution_count": 29,
   "metadata": {},
   "outputs": [
    {
     "name": "stdout",
     "output_type": "stream",
     "text": [
      "              precision    recall  f1-score   support\n",
      "\n",
      "         acc       0.85      0.91      0.88        76\n",
      "        good       0.93      0.78      0.85        18\n",
      "       unacc       0.98      0.97      0.98       243\n",
      "       vgood       0.80      0.89      0.84         9\n",
      "\n",
      "    accuracy                           0.95       346\n",
      "   macro avg       0.89      0.89      0.89       346\n",
      "weighted avg       0.95      0.95      0.95       346\n",
      "\n"
     ]
    }
   ],
   "source": [
    "y_pred = clf.predict(X_test)\n",
    "print(classification_report(y_true, y_pred, target_names=target_names))"
   ]
  },
  {
   "cell_type": "markdown",
   "metadata": {},
   "source": [
    "# Model Comparison"
   ]
  },
  {
   "cell_type": "code",
   "execution_count": 33,
   "metadata": {},
   "outputs": [
    {
     "name": "stdout",
     "output_type": "stream",
     "text": [
      "Logistic :  {'Accuracy': 'Model Score: 0.838', 'f_score': '0.83'}\n",
      "SVM :  {'Accuracy': 'Model Score: 0.968', 'f_score': '0.97'}\n",
      "NB :  {'Accuracy': 'Model Score: 0.69', 'f_score': '0.67'}\n",
      "KNN :  {'Accuracy': 'Model Score: 0.945', 'f_score': '0.95'}\n"
     ]
    }
   ],
   "source": [
    "scores['KNN']['Accuracy'] = 'Model Score: 0.945'\n",
    "scores['KNN']['f_score'] = '0.95'\n",
    "for i, x in scores.items():\n",
    "    print(i, ': ', x)"
   ]
  },
  {
   "cell_type": "code",
   "execution_count": 61,
   "metadata": {},
   "outputs": [
    {
     "data": {
      "text/html": [
       "<div>\n",
       "<style scoped>\n",
       "    .dataframe tbody tr th:only-of-type {\n",
       "        vertical-align: middle;\n",
       "    }\n",
       "\n",
       "    .dataframe tbody tr th {\n",
       "        vertical-align: top;\n",
       "    }\n",
       "\n",
       "    .dataframe thead th {\n",
       "        text-align: right;\n",
       "    }\n",
       "</style>\n",
       "<table border=\"1\" class=\"dataframe\">\n",
       "  <thead>\n",
       "    <tr style=\"text-align: right;\">\n",
       "      <th></th>\n",
       "      <th>Accuracy_Score</th>\n",
       "      <th>f_score</th>\n",
       "    </tr>\n",
       "  </thead>\n",
       "  <tbody>\n",
       "    <tr>\n",
       "      <th>Logistic Reg</th>\n",
       "      <td>0.838</td>\n",
       "      <td>0.83</td>\n",
       "    </tr>\n",
       "    <tr>\n",
       "      <th>SVM</th>\n",
       "      <td>0.968</td>\n",
       "      <td>0.97</td>\n",
       "    </tr>\n",
       "    <tr>\n",
       "      <th>NB</th>\n",
       "      <td>0.690</td>\n",
       "      <td>0.67</td>\n",
       "    </tr>\n",
       "    <tr>\n",
       "      <th>KNN</th>\n",
       "      <td>0.945</td>\n",
       "      <td>0.95</td>\n",
       "    </tr>\n",
       "  </tbody>\n",
       "</table>\n",
       "</div>"
      ],
      "text/plain": [
       "              Accuracy_Score  f_score\n",
       "Logistic Reg           0.838     0.83\n",
       "SVM                    0.968     0.97\n",
       "NB                     0.690     0.67\n",
       "KNN                    0.945     0.95"
      ]
     },
     "execution_count": 61,
     "metadata": {},
     "output_type": "execute_result"
    }
   ],
   "source": [
    "comparison = [[0.838, 0.83], [0.968, 0.97], [0.69, 0.67], [0.945, 0.95]]\n",
    "col_names = [ 'Accuracy_Score', 'f_score']\n",
    "index_names = ['Logistic Reg', 'SVM', 'NB', 'KNN']\n",
    "comparison = pd.DataFrame(comparison, index = index_names, columns = col_names)\n",
    "comparison"
   ]
  },
  {
   "cell_type": "code",
   "execution_count": 73,
   "metadata": {},
   "outputs": [
    {
     "data": {
      "image/png": "[encoded data removed]",
      "text/plain": [
       "<Figure size 720x576 with 1 Axes>"
      ]
     },
     "metadata": {
      "needs_background": "light"
     },
     "output_type": "display_data"
    }
   ],
   "source": [
    "comparison.plot.bar(rot = 0, figsize = (10,8), grid = True)\n",
    "plt.ylabel('Scores')\n",
    "plt.legend(loc = 'best')\n",
    "plt.title('Accuracy and F-score comparison of models')\n",
    "plt.show()"
   ]
  },
  {
   "cell_type": "markdown",
   "metadata": {},
   "source": [
    "# Making a prediction\n",
    "Make classification of car deals near me for Suburu WRX.\n",
    "Source of model information:(https://www.carsales.com.au/cars/subaru/wrx/?Sort=NearestNeighbour%2C-33.759228%2C150.967346)"
   ]
  },
  {
   "cell_type": "code",
   "execution_count": 77,
   "metadata": {},
   "outputs": [
    {
     "name": "stdout",
     "output_type": "stream",
     "text": [
      "38607.583333333336\n",
      "10622.226394517718\n"
     ]
    }
   ],
   "source": [
    "prices = [32000, 50880, 51990, 27500, 58000, 28880, 49888, 31488, 29785, 36000, 27500, 39380]\n",
    "avg_price = np.mean(prices)\n",
    "print(avg_price)\n",
    "print(np.std(prices))"
   ]
  },
  {
   "cell_type": "markdown",
   "metadata": {},
   "source": [
    "We will make the following classifications on relative price:\n",
    "- low = below 1 standard deviation (-28k)\n",
    "- med = within 1 standard deviation (28 - 48k)\n",
    "- high = between 1 and 1.4 standard deviations (48 - 52k)\n",
    "- v-high = above 1.2 standard deviations (+ 52k)"
   ]
  },
  {
   "cell_type": "markdown",
   "metadata": {},
   "source": [
    "WRX has:\n",
    "- 50k price\n",
    "- 1.5k-2k maintence cost p.a (medium)\n",
    "- 4 doors\n",
    "- 5 person capacity\n",
    "- medium sized boot\n",
    "- 5 star ancap rating (maxed)"
   ]
  },
  {
   "cell_type": "code",
   "execution_count": null,
   "metadata": {},
   "outputs": [],
   "source": [
    "num_data['relative_cost'].replace({'low':0,'med':1/3,'high':2/3, 'vhigh':1}, inplace = True)\n",
    "num_data['maint_cost'].replace({'low':0,'med':1/3,'high':2/3, 'vhigh':1},inplace = True)\n",
    "num_data['doors'].replace({'2':0,'3':1/3,'4':2/3,'5more':1},inplace = True)\n",
    "num_data['persons'].replace({'2':0,'4':0.5,'more':1},inplace = True)\n",
    "num_data['lug_boot'].replace({'small':0,'med':0.5,'big':1},inplace = True)\n",
    "num_data['safety'].replace({'low':0,'med':0.5,'high':1},inplace = True)\n",
    "num_data['rating'].replace({'unacc': 1, 'acc': 2, 'good': 3, 'vgood': 4}, inplace = True)"
   ]
  },
  {
   "cell_type": "code",
   "execution_count": 81,
   "metadata": {},
   "outputs": [
    {
     "data": {
      "text/plain": [
       "'acc'"
      ]
     },
     "execution_count": 81,
     "metadata": {},
     "output_type": "execute_result"
    }
   ],
   "source": [
    "lr.predict(np.array([[2/3, 1/3, 2/3, 1, 0.5, 1]]))[0]"
   ]
  },
  {
   "cell_type": "code",
   "execution_count": null,
   "metadata": {},
   "outputs": [],
   "source": []
  }
 ],
 "metadata": {
  "kernelspec": {
   "display_name": "Python 3",
   "language": "python",
   "name": "python3"
  },
  "language_info": {
   "codemirror_mode": {
    "name": "ipython",
    "version": 3
   },
   "file_extension": ".py",
   "mimetype": "text/x-python",
   "name": "python",
   "nbconvert_exporter": "python",
   "pygments_lexer": "ipython3",
   "version": "3.8.3"
  }
 },
 "nbformat": 4,
 "nbformat_minor": 4
}
