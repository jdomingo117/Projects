{
 "cells": [
  {
   "cell_type": "markdown",
   "id": "aec15b02",
   "metadata": {},
   "source": [
    "# Q3\n",
    "\n",
    "Having been given a list of treatment/trial stores and control stores, we've collected data from the pre-test period, the implementation period and the test period.\n",
    "\n",
    "---------\n",
    "\n",
    "- Pre-Test Period: (X weeks prior to the start of the implementation)\n",
    "- 07/17/2016 - 10/15/2016\n",
    "-----------\n",
    "- Implemention Period: (The period of time needed to actually get get the experiment ready; in this\n",
    "case, the time to put the signs up across all stores)\n",
    "- 10/16/2016 - 11/12/2016\n",
    "-----------\n",
    "- Test Period: (X weeks after the end of the implementation period)\n",
    "- 11/13/2016 - 02/12/2017\n",
    "-----------\n",
    "\n",
    "This question aims to solve, using the given data, how to quantify the impact of this test on the revenue from Brand Z's candy sales. \n",
    "\n",
    "The business question surrounds whether Client X should roll out the trialed signs to all their stores."
   ]
  },
  {
   "cell_type": "code",
   "execution_count": 1,
   "id": "b7c39b5f",
   "metadata": {},
   "outputs": [],
   "source": [
    "# Import libraries\n",
    "import numpy as np\n",
    "import pandas as pd\n",
    "import matplotlib.pyplot as plt\n",
    "import seaborn as sns"
   ]
  },
  {
   "cell_type": "code",
   "execution_count": null,
   "id": "41f5893d",
   "metadata": {},
   "outputs": [],
   "source": []
  }
 ],
 "metadata": {
  "kernelspec": {
   "display_name": "Python 3 (ipykernel)",
   "language": "python",
   "name": "python3"
  },
  "language_info": {
   "codemirror_mode": {
    "name": "ipython",
    "version": 3
   },
   "file_extension": ".py",
   "mimetype": "text/x-python",
   "name": "python",
   "nbconvert_exporter": "python",
   "pygments_lexer": "ipython3",
   "version": "3.9.12"
  }
 },
 "nbformat": 4,
 "nbformat_minor": 5
}
